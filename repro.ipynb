{
  "nbformat": 4,
  "nbformat_minor": 0,
  "metadata": {
    "colab": {
      "provenance": []
    },
    "kernelspec": {
      "name": "python3",
      "display_name": "Python 3"
    },
    "language_info": {
      "name": "python"
    }
  },
  "cells": [
    {
      "cell_type": "code",
      "execution_count": 1,
      "metadata": {
        "colab": {
          "base_uri": "https://localhost:8080/",
          "height": 35
        },
        "id": "1iY5Z1qRB1NE",
        "outputId": "a2bc65c5-8642-4fc0-d3fd-1e4cb02f42de"
      },
      "outputs": [
        {
          "output_type": "execute_result",
          "data": {
            "text/plain": [
              "'2023-11-01'"
            ],
            "application/vnd.google.colaboratory.intrinsic+json": {
              "type": "string"
            }
          },
          "metadata": {},
          "execution_count": 1
        }
      ],
      "source": [
        "from datetime import datetime\n",
        "datetime.today().strftime('%Y-%m-%d')"
      ]
    },
    {
      "cell_type": "code",
      "source": [
        "1 + 1"
      ],
      "metadata": {
        "colab": {
          "base_uri": "https://localhost:8080/"
        },
        "id": "oC0FHPzdCB9l",
        "outputId": "c25a13f7-261f-4dcb-e09c-de09feda8d09"
      },
      "execution_count": 2,
      "outputs": [
        {
          "output_type": "execute_result",
          "data": {
            "text/plain": [
              "2"
            ]
          },
          "metadata": {},
          "execution_count": 2
        }
      ]
    },
    {
      "cell_type": "markdown",
      "source": [
        "Version control is integral to the computational reproducibility of scientific research. git and similar tools allow researchers to a) work collaboratively on a single project with others, b) provide a history of progress and the ability to revert to previous states, and c) enable the work to be reviewed and extended by other researchers.\n",
        "\n",
        "The collaborative benefits offered by version control and repositories like GitHub are largely due to the well-defined collaboration workflows defined by these systems. There is no need for each project member to directly send their updated files to the others; rather there is a central “source of truth”, which is the repository, and merge-conflict handling tools provided by the system. These provide redundancy to the storage of the files and utilize a sharing pattern that is consistent across different projects and teams.\n",
        "\n",
        "\n",
        "Being able to review the history of a project and revert to various previous states may not seem important until the time comes where it seems necessary to take a step backwards. Sometimes it's unclear why certain code changes were made, but the version control history can offer insight into the specific series of changes along with any comments associated with them. Additionally, sometimes a project pursues a certain direction, but after progressing down that path, it becomes clear something will not work and another direction needs to be chosen. git and other tools allow for reverting to these old states as a well-supported workflow.\n",
        "\n",
        "\n",
        "Finally, GitHub and other repository hosting services directly enable cross-team collaboration and sharing of ideas. By making a repository public, others can review a project's code for ideas, use the code to reproduce results, and/or extend the code to build atop the project's outcomes. These all foster computational reproducibility of scientific research.\n"
      ],
      "metadata": {
        "id": "4xFEquoLCFQU"
      }
    }
  ]
}